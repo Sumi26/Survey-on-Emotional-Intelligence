{
 "cells": [
  {
   "cell_type": "code",
   "execution_count": 1,
   "metadata": {},
   "outputs": [],
   "source": [
    "import pandas as pd\n",
    "import numpy as np\n",
    "import matplotlib.pyplot as plt"
   ]
  },
  {
   "cell_type": "markdown",
   "metadata": {},
   "source": [
    "## Preparing the DataFrame"
   ]
  },
  {
   "cell_type": "code",
   "execution_count": 2,
   "metadata": {},
   "outputs": [],
   "source": [
    "data=pd.read_csv(\"Survey_FinalList.csv\")\n",
    "data.drop(['Timestamp'],axis=1,inplace=True)\n",
    "df=pd.DataFrame(data)"
   ]
  },
  {
   "cell_type": "code",
   "execution_count": 3,
   "metadata": {},
   "outputs": [],
   "source": [
    "def calc_EI(row):\n",
    "    x=row[0:20]\n",
    "    score=0\n",
    "    for i in x:\n",
    "        if(i==3):\n",
    "            score=score+5\n",
    "        if(i==2):\n",
    "            score=score+3\n",
    "        if(i==1):\n",
    "            score=score+1\n",
    "    return pd.Series({'EI_Score': score})"
   ]
  },
  {
   "cell_type": "code",
   "execution_count": 4,
   "metadata": {},
   "outputs": [],
   "source": [
    "df1=df.apply(calc_EI,axis=1)\n",
    "\n",
    "#Creating final required DataFrame\n",
    "Final_df=pd.DataFrame(df1)"
   ]
  },
  {
   "cell_type": "code",
   "execution_count": 5,
   "metadata": {},
   "outputs": [],
   "source": [
    "#DataFrame for social personality\n",
    "dfs=pd.DataFrame(df.iloc[:,20:32])"
   ]
  },
  {
   "cell_type": "code",
   "execution_count": 6,
   "metadata": {},
   "outputs": [],
   "source": [
    "def calc_intro(row):\n",
    "    step1=0\n",
    "    step2=0\n",
    "    for i in range(12):\n",
    "        if(i==0 or i==2):\n",
    "            step1+=row[i]\n",
    "        else:\n",
    "            step2+=row[i]\n",
    "    score=12-step1+step2\n",
    "    return pd.Series({'Introversion Score': score})"
   ]
  },
  {
   "cell_type": "code",
   "execution_count": 7,
   "metadata": {},
   "outputs": [],
   "source": [
    "df2=dfs.apply(calc_intro,axis=1)\n",
    "#Adding to the final DataFrame\n",
    "Final_df['Introversion Score']=df2    "
   ]
  },
  {
   "cell_type": "code",
   "execution_count": 8,
   "metadata": {},
   "outputs": [],
   "source": [
    "#DataFrame for learning\n",
    "df_l=pd.DataFrame(df.iloc[:,32:])"
   ]
  },
  {
   "cell_type": "code",
   "execution_count": 9,
   "metadata": {},
   "outputs": [],
   "source": [
    "def calc_learn(row):\n",
    "    noa=0\n",
    "    nob=0\n",
    "    noc=0\n",
    "    res=''\n",
    "    for i in row:\n",
    "        if(i=='a'):\n",
    "            noa+=1\n",
    "        if(i=='b'):\n",
    "            nob+=1\n",
    "        if(i=='c'):\n",
    "            noc+=1\n",
    "    if(noa>nob and noa>noc):\n",
    "        res='Visual'\n",
    "    elif(nob>noa and nob>noc):\n",
    "        res='Auditory'\n",
    "    elif(noc>noa and noc>nob):\n",
    "        res='Kinesthetic'\n",
    "    elif(noa==nob):\n",
    "        res='Both visual and auditory'\t\n",
    "    elif(noa==noc):\n",
    "        res='Both visual and kinesthetic'\n",
    "    elif(nob==noc):\n",
    "        res='Both auditory and kinesthetic'\n",
    "    return pd.Series({'Learn Style': res})"
   ]
  },
  {
   "cell_type": "code",
   "execution_count": 10,
   "metadata": {},
   "outputs": [],
   "source": [
    "s1=df_l.apply(calc_learn,axis=1)\n",
    "#Final DataFrame ready\n",
    "Final_df['Learning Style']=s1"
   ]
  },
  {
   "cell_type": "markdown",
   "metadata": {},
   "source": [
    "## Statistical Analysis"
   ]
  },
  {
   "cell_type": "code",
   "execution_count": 11,
   "metadata": {},
   "outputs": [],
   "source": [
    "ei=np.array(Final_df['EI_Score'])                 # making a numpy array \n",
    "intro=np.array(Final_df['Introversion Score'])    # making a numpy array"
   ]
  },
  {
   "cell_type": "code",
   "execution_count": 12,
   "metadata": {},
   "outputs": [
    {
     "data": {
      "text/plain": [
       "array([[1.00000000e+00, 8.95650761e-04],\n",
       "       [8.95650761e-04, 1.00000000e+00]])"
      ]
     },
     "execution_count": 12,
     "metadata": {},
     "output_type": "execute_result"
    }
   ],
   "source": [
    "r = np.corrcoef(ei,intro)\n",
    "r"
   ]
  },
  {
   "cell_type": "markdown",
   "metadata": {},
   "source": [
    "## Data Visualization"
   ]
  },
  {
   "cell_type": "markdown",
   "metadata": {},
   "source": [
    "### Scatter Plot for EI scores and Introversion scores"
   ]
  },
  {
   "cell_type": "code",
   "execution_count": 13,
   "metadata": {},
   "outputs": [
    {
     "data": {
      "image/png": "[encoded data removed]",
      "text/plain": [
       "<Figure size 432x288 with 1 Axes>"
      ]
     },
     "metadata": {
      "needs_background": "light"
     },
     "output_type": "display_data"
    }
   ],
   "source": [
    "plt.scatter(ei, intro,c=\"red\", alpha=0.8)\n",
    "plt.title('Relation between EI and Introversion')\n",
    "plt.xlabel('EI Scores')\n",
    "plt.ylabel('Introversion scores')\n",
    "plt.show()"
   ]
  },
  {
   "cell_type": "markdown",
   "metadata": {},
   "source": [
    "### Barplot for Learning Style Frequency"
   ]
  },
  {
   "cell_type": "code",
   "execution_count": 14,
   "metadata": {},
   "outputs": [
    {
     "data": {
      "image/png": "[encoded data removed]",
      "text/plain": [
       "<Figure size 432x288 with 1 Axes>"
      ]
     },
     "metadata": {
      "needs_background": "light"
     },
     "output_type": "display_data"
    }
   ],
   "source": [
    "Freq=Final_df['Learning Style'].value_counts()\n",
    "top=['Auditory','Visual','Kinesthetic','Both visual and auditory','Both auditory and kinesthetic','Both visual and kinesthetic']\n",
    "\n",
    "x=pd.DataFrame(Freq)\n",
    "\n",
    "index_name=x.index.tolist()\n",
    "for i in top:\n",
    "    if i not in index_name:\n",
    "        x.loc[i]=[0]\n",
    "\n",
    "x.plot(kind='barh')\n",
    "plt.title('Barplot showing learning style distribution')\n",
    "plt.xlabel('Frequency')\n",
    "plt.show()"
   ]
  },
  {
   "cell_type": "markdown",
   "metadata": {},
   "source": [
    "### Plot for displaying relationship between learning style and EI score"
   ]
  },
  {
   "cell_type": "code",
   "execution_count": 15,
   "metadata": {},
   "outputs": [
    {
     "data": {
      "image/png": "[encoded data removed]",
      "text/plain": [
       "<Figure size 432x288 with 1 Axes>"
      ]
     },
     "metadata": {
      "needs_background": "light"
     },
     "output_type": "display_data"
    }
   ],
   "source": [
    "w=Final_df\n",
    "w.drop(['Introversion Score'],axis=1,inplace=True)\n",
    "w.set_index('Learning Style',inplace=True)\n",
    "\n",
    "for i in top:\n",
    "    if i not in w.index:\n",
    "        w.loc[i]=[0]\n",
    "\n",
    "g1=np.array(w.loc['Auditory','EI_Score'])\n",
    "g2=np.array(w.loc['Visual','EI_Score'])\n",
    "g3=np.array(w.loc['Kinesthetic','EI_Score'])\n",
    "g4=np.array(w.loc['Both visual and auditory','EI_Score'])\n",
    "g5=np.array(w.loc['Both auditory and kinesthetic','EI_Score'])\n",
    "g6=np.array(w.loc['Both visual and kinesthetic','EI_Score'])\n",
    "\n",
    "\n",
    "g11=(g1,[3]*(g1.size))\n",
    "g12=(g2,[4]*(g2.size))\n",
    "g13=(g3,[5]*(g3.size))\n",
    "g14=(g4,[6]*(g4.size))\n",
    "g15=(g5,[7]*(g5.size))\n",
    "g16=(g6,[8]*(g6.size))\n",
    "data = (g11,g12,g13,g14,g15,g16)\n",
    "\n",
    "fig = plt.figure()\n",
    "ax = fig.add_subplot(1, 1, 1)\n",
    "\n",
    "for data, group in zip(data, top):\n",
    "    x, y = data\n",
    "    ax.scatter(x, y, alpha=0.8, label=group)\n",
    "\n",
    "plt.title('Visual Representation of Learning style wrt to EI score')\n",
    "plt.legend(loc=2)\n",
    "plt.xlabel('EI scores')\n",
    "plt.show()"
   ]
  },
  {
   "cell_type": "code",
   "execution_count": null,
   "metadata": {},
   "outputs": [],
   "source": []
  }
 ],
 "metadata": {
  "kernelspec": {
   "display_name": "Python 3",
   "language": "python",
   "name": "python3"
  },
  "language_info": {
   "codemirror_mode": {
    "name": "ipython",
    "version": 3
   },
   "file_extension": ".py",
   "mimetype": "text/x-python",
   "name": "python",
   "nbconvert_exporter": "python",
   "pygments_lexer": "ipython3",
   "version": "3.7.2"
  }
 },
 "nbformat": 4,
 "nbformat_minor": 4
}
